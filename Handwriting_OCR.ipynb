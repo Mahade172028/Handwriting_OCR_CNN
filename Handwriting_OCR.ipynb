{
 "cells": [
  {
   "cell_type": "code",
   "execution_count": 10,
   "metadata": {},
   "outputs": [],
   "source": [
    "import pandas as pd\n",
    "import numpy as np\n",
    "\n",
    "#dataset of NIST A-z\n",
    "data=pd.read_csv(\"Downloads/Doctor_Handwritting/A_Z Handwritten Data.csv/A_Z Handwritten Data.csv\",header=None)\n",
    "data=np.array(data)"
   ]
  },
  {
   "cell_type": "code",
   "execution_count": 11,
   "metadata": {},
   "outputs": [],
   "source": [
    "#dataset of MNIST\n",
    "data_D = pd.read_csv(\"Downloads/Doctor_Handwritting/archive/mnist_train.csv\",header=None)\n",
    "data_D=np.array(data_D)\n",
    "data_D=data_D[1:,:]"
   ]
  },
  {
   "cell_type": "code",
   "execution_count": 62,
   "metadata": {},
   "outputs": [
    {
     "data": {
      "image/png": "[encoded data removed]",
      "text/plain": [
       "<Figure size 432x288 with 1 Axes>"
      ]
     },
     "metadata": {
      "needs_background": "light"
     },
     "output_type": "display_data"
    }
   ],
   "source": [
    "\n",
    "import matplotlib.pyplot as plt\n",
    "plt.imshow(d)\n",
    "plt.show()"
   ]
  },
  {
   "cell_type": "code",
   "execution_count": 73,
   "metadata": {},
   "outputs": [],
   "source": [
    "x_az=data[:,1:]\n",
    "y_az=data[:,:1]\n",
    "x_d=data_D[:,1:].astype('int64')\n",
    "y_d=data_D[:,:1].astype('int64')\n",
    "y_az=y_az+10\n",
    "x_az=x_az.reshape(len(x_az),28,28)\n",
    "x_d=x_d.reshape(len(x_d),28,28)"
   ]
  },
  {
   "cell_type": "code",
   "execution_count": 74,
   "metadata": {},
   "outputs": [],
   "source": [
    "x=np.concatenate((x_d,x_az),axis=0)\n",
    "y=np.concatenate((y_d,y_az),axis=0)\n"
   ]
  },
  {
   "cell_type": "code",
   "execution_count": 85,
   "metadata": {},
   "outputs": [],
   "source": [
    "#print(len(x))\n",
    "indices = np.arange(len(x))\n",
    "np.random.shuffle(indices)\n",
    "train_size=int(0.8*len(x))\n",
    "x_train,y_train=x[indices[:train_size]],y[indices[:train_size]]\n",
    "x_val,y_val=x[indices[train_size:]],y[indices[train_size:]]"
   ]
  },
  {
   "cell_type": "code",
   "execution_count": 86,
   "metadata": {
    "scrolled": true
   },
   "outputs": [
    {
     "data": {
      "image/png": "[encoded data removed]",
      "text/plain": [
       "<Figure size 432x288 with 1 Axes>"
      ]
     },
     "metadata": {
      "needs_background": "light"
     },
     "output_type": "display_data"
    },
    {
     "name": "stdout",
     "output_type": "stream",
     "text": [
      "[10]\n"
     ]
    }
   ],
   "source": [
    "import matplotlib.pyplot as plt\n",
    "plt.imshow(x_train[2])\n",
    "plt.show()\n",
    "print(y_train[2])"
   ]
  },
  {
   "cell_type": "code",
   "execution_count": 88,
   "metadata": {},
   "outputs": [],
   "source": [
    "import pickle\n",
    "dic={'x_train':x_train,'y_train':y_train,'x_val':x_val,'y_val':y_val}\n",
    "filename=open(\"Desktop/ocr_data.pickle\",'wb')\n",
    "pickle.dump(dic,filename)\n",
    "filename.close()\n"
   ]
  },
  {
   "cell_type": "code",
   "execution_count": 90,
   "metadata": {},
   "outputs": [],
   "source": [
    "classes=['0','1','2','3','4','5','6','7','8','9','A','B','C','D','E','F','G','H','I','J',\n",
    "         'K','L','M','N','O','P','Q','R','S','T','U','V','W','X','Y','Z']"
   ]
  },
  {
   "cell_type": "code",
   "execution_count": 96,
   "metadata": {},
   "outputs": [],
   "source": [
    "#x.shape\n",
    "x_train=x_train.reshape(-1,28,28,1)\n",
    "x_val=x_val.reshape(-1,28,28,1)\n",
    "#x_train[0].shape"
   ]
  },
  {
   "cell_type": "code",
   "execution_count": 98,
   "metadata": {
    "scrolled": true
   },
   "outputs": [
    {
     "name": "stdout",
     "output_type": "stream",
     "text": [
      "Model: \"sequential_2\"\n",
      "_________________________________________________________________\n",
      "Layer (type)                 Output Shape              Param #   \n",
      "=================================================================\n",
      "conv2d_2 (Conv2D)            (None, 26, 26, 64)        640       \n",
      "_________________________________________________________________\n",
      "activation (Activation)      (None, 26, 26, 64)        0         \n",
      "_________________________________________________________________\n",
      "max_pooling2d (MaxPooling2D) (None, 13, 13, 64)        0         \n",
      "_________________________________________________________________\n",
      "conv2d_3 (Conv2D)            (None, 11, 11, 64)        36928     \n",
      "_________________________________________________________________\n",
      "activation_1 (Activation)    (None, 11, 11, 64)        0         \n",
      "_________________________________________________________________\n",
      "max_pooling2d_1 (MaxPooling2 (None, 5, 5, 64)          0         \n",
      "_________________________________________________________________\n",
      "flatten (Flatten)            (None, 1600)              0         \n",
      "_________________________________________________________________\n",
      "dense (Dense)                (None, 128)               204928    \n",
      "_________________________________________________________________\n",
      "dense_1 (Dense)              (None, 36)                4644      \n",
      "=================================================================\n",
      "Total params: 247,140\n",
      "Trainable params: 247,140\n",
      "Non-trainable params: 0\n",
      "_________________________________________________________________\n"
     ]
    }
   ],
   "source": [
    "import tensorflow as tf\n",
    "from tensorflow.keras.models import Sequential \n",
    "from tensorflow.keras.layers import Dense,Activation,Flatten,Dropout,MaxPooling2D,Conv2D\n",
    "\n",
    "model=Sequential()\n",
    "model.add(Conv2D(64,(3,3),input_shape=(28,28,1)))  #convolution layer with relu activation\n",
    "model.add(Activation(\"relu\"))\n",
    "model.add(MaxPooling2D(pool_size=(2,2)))\n",
    "\n",
    "model.add(Conv2D(64,(3,3)))                             #convolution layer with relu activation\n",
    "model.add(Activation(\"relu\"))\n",
    "model.add(MaxPooling2D(pool_size=(2,2)))\n",
    "\n",
    "model.add(Flatten())                                    #Flatten layer with relu activation\n",
    "model.add(Dense(128,Activation(\"relu\"))) \n",
    "\n",
    "#model.add(Dense(64,Activation(\"relu\")))                #Dense layer with activation relu\n",
    "\n",
    "model.add(tf.keras.layers.Dense(36,activation=tf.nn.softmax))\n",
    "model.summary()\n",
    "#model.add(Activation(\"sigmoid\"))                 "
   ]
  },
  {
   "cell_type": "code",
   "execution_count": 100,
   "metadata": {},
   "outputs": [],
   "source": [
    "model.compile(loss='sparse_categorical_crossentropy',optimizer=\"adam\",metrics=[\"accuracy\"])"
   ]
  },
  {
   "cell_type": "code",
   "execution_count": 102,
   "metadata": {
    "scrolled": true
   },
   "outputs": [
    {
     "name": "stdout",
     "output_type": "stream",
     "text": [
      "Epoch 1/3\n",
      "9731/9731 [==============================] - 435s 45ms/step - loss: 0.1216 - accuracy: 0.9650 - val_loss: 0.1107 - val_accuracy: 0.9690\n",
      "Epoch 2/3\n",
      "9731/9731 [==============================] - 446s 46ms/step - loss: 0.0953 - accuracy: 0.9724 - val_loss: 0.1005 - val_accuracy: 0.9712\n",
      "Epoch 3/3\n",
      "9731/9731 [==============================] - 489s 50ms/step - loss: 0.0807 - accuracy: 0.9761 - val_loss: 0.1058 - val_accuracy: 0.9707\n"
     ]
    },
    {
     "data": {
      "text/plain": [
       "<tensorflow.python.keras.callbacks.History at 0x2cc10e6d460>"
      ]
     },
     "execution_count": 102,
     "metadata": {},
     "output_type": "execute_result"
    }
   ],
   "source": [
    "model.fit(x_train,y_train,batch_size=32,epochs=3,validation_split=0.1)  #I just used three epochs you can use more\n"
   ]
  },
  {
   "cell_type": "code",
   "execution_count": 103,
   "metadata": {},
   "outputs": [],
   "source": [
    "prediction=model.predict([x_val])"
   ]
  },
  {
   "cell_type": "code",
   "execution_count": 181,
   "metadata": {
    "scrolled": true
   },
   "outputs": [
    {
     "name": "stdout",
     "output_type": "stream",
     "text": [
      "prediction: 2\n"
     ]
    },
    {
     "data": {
      "image/png": "[encoded data removed]",
      "text/plain": [
       "<Figure size 432x288 with 1 Axes>"
      ]
     },
     "metadata": {
      "needs_background": "light"
     },
     "output_type": "display_data"
    },
    {
     "name": "stdout",
     "output_type": "stream",
     "text": [
      "[2]\n"
     ]
    }
   ],
   "source": [
    "print(\"prediction:\",classes[np.argmax(prediction[0])])\n",
    "\n",
    "import matplotlib.pyplot as plt\n",
    "plt.imshow(x_val[0])\n",
    "plt.show()\n",
    "print(y_val[0])"
   ]
  },
  {
   "cell_type": "code",
   "execution_count": 182,
   "metadata": {},
   "outputs": [
    {
     "name": "stdout",
     "output_type": "stream",
     "text": [
      "prediction: 8\n"
     ]
    },
    {
     "data": {
      "image/png": "[encoded data removed]",
      "text/plain": [
       "<Figure size 432x288 with 1 Axes>"
      ]
     },
     "metadata": {
      "needs_background": "light"
     },
     "output_type": "display_data"
    },
    {
     "name": "stdout",
     "output_type": "stream",
     "text": [
      "[8]\n"
     ]
    }
   ],
   "source": [
    "print(\"prediction:\",classes[np.argmax(prediction[5])])\n",
    "\n",
    "import matplotlib.pyplot as plt\n",
    "plt.imshow(x_val[5])\n",
    "plt.show()\n",
    "print(y_val[5])"
   ]
  },
  {
   "cell_type": "code",
   "execution_count": null,
   "metadata": {},
   "outputs": [],
   "source": [
    "model.save(\"Desktop/Handwriting_ocr\")"
   ]
  }
 ],
 "metadata": {
  "kernelspec": {
   "display_name": "Python 3",
   "language": "python",
   "name": "python3"
  },
  "language_info": {
   "codemirror_mode": {
    "name": "ipython",
    "version": 3
   },
   "file_extension": ".py",
   "mimetype": "text/x-python",
   "name": "python",
   "nbconvert_exporter": "python",
   "pygments_lexer": "ipython3",
   "version": "3.8.5"
  }
 },
 "nbformat": 4,
 "nbformat_minor": 4
}
